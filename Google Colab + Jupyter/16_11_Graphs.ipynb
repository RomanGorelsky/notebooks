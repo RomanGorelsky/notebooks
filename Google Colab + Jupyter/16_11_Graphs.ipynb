{
  "nbformat": 4,
  "nbformat_minor": 0,
  "metadata": {
    "colab": {
      "name": "16/11_Graphs.ipynb",
      "provenance": [],
      "collapsed_sections": []
    },
    "kernelspec": {
      "name": "python3",
      "display_name": "Python 3"
    },
    "language_info": {
      "name": "python"
    }
  },
  "cells": [
    {
      "cell_type": "markdown",
      "metadata": {
        "id": "Cam7GQcrdvAx"
      },
      "source": [
        "Tree - withouth cycle\n",
        "\n",
        "Cycle graph - you can get to a point in different ways"
      ]
    },
    {
      "cell_type": "markdown",
      "metadata": {
        "id": "m7vL29OBeOLw"
      },
      "source": [
        "Breath-first search - from the top to the bottom (look at all neighbours)\n",
        "\n",
        "Depth-first search - to the bottom left and then from the left to the right"
      ]
    },
    {
      "cell_type": "code",
      "metadata": {
        "id": "meA67Um9cHH5"
      },
      "source": [
        "#Breath-first search\n",
        "\n",
        "from collections import deque"
      ],
      "execution_count": null,
      "outputs": []
    },
    {
      "cell_type": "code",
      "metadata": {
        "colab": {
          "base_uri": "https://localhost:8080/"
        },
        "id": "ZZjhP1HjgD_0",
        "outputId": "30a978f4-7d92-4ce2-9330-48ebc0a7eb40"
      },
      "source": [
        "#Breadth-first search\n",
        "\n",
        "queue = deque()\n",
        "\n",
        "adj_list = [[1, 6, 7], [0, 2, 5], [1, 3, 4], [2], [2], [1],\n",
        "            [0], [0, 8, 11], [7, 9, 10], [8], [8], [7]]\n",
        "\n",
        "queue.append(0)\n",
        "\n",
        "proccessed = {0}\n",
        "\n",
        "while queue:\n",
        "  cur_v = queue.popleft()\n",
        "  print(cur_v)\n",
        "  for v in adj_list[cur_v]:\n",
        "    if v not in proccessed:\n",
        "      queue.append(v)\n",
        "    proccessed.add(v)"
      ],
      "execution_count": null,
      "outputs": [
        {
          "output_type": "stream",
          "name": "stdout",
          "text": [
            "0\n",
            "1\n",
            "6\n",
            "7\n",
            "2\n",
            "5\n",
            "8\n",
            "11\n",
            "3\n",
            "4\n",
            "9\n",
            "10\n"
          ]
        }
      ]
    },
    {
      "cell_type": "code",
      "metadata": {
        "colab": {
          "base_uri": "https://localhost:8080/"
        },
        "id": "ByYqQAGmiF7H",
        "outputId": "1da54a9e-d44b-4231-8c78-ee927164bb8d"
      },
      "source": [
        "#Depth-first search\n",
        "\n",
        "queue = deque()\n",
        "\n",
        "adj_list = [[1, 6, 7], [0, 2, 5], [1, 3, 4], [2], [2], [1],\n",
        "            [0], [0, 8, 11], [7, 9, 10], [8], [8], [7]]\n",
        "\n",
        "queue.append(0)\n",
        "\n",
        "proccessed = {0}\n",
        "\n",
        "while queue:\n",
        "  cur_v = queue.popleft()\n",
        "  print(cur_v)\n",
        "  for v in adj_list[cur_v][::-1]:\n",
        "    if v not in proccessed:\n",
        "      queue.appendleft(v)\n",
        "    proccessed.add(v)"
      ],
      "execution_count": null,
      "outputs": [
        {
          "output_type": "stream",
          "name": "stdout",
          "text": [
            "0\n",
            "1\n",
            "2\n",
            "3\n",
            "4\n",
            "5\n",
            "6\n",
            "7\n",
            "8\n",
            "9\n",
            "10\n",
            "11\n"
          ]
        }
      ]
    },
    {
      "cell_type": "code",
      "metadata": {
        "id": "PoH4mCvdqS4_"
      },
      "source": [
        "def bfs(vertex, adj_list, proccessed):\n",
        "  if vertex not in proccessed:\n",
        "    print(vertex)\n",
        "    proccessed.add(vertex)\n",
        "    for v in adj_list[vertex]:\n",
        "      dfs(v, adj_list, proccessed)\n",
        "  else:\n",
        "    print(vertex)"
      ],
      "execution_count": null,
      "outputs": []
    },
    {
      "cell_type": "code",
      "metadata": {
        "colab": {
          "base_uri": "https://localhost:8080/"
        },
        "id": "6YaNMKqAlOkG",
        "outputId": "5b3889e9-1016-46c6-d7ab-90af0fae85f3"
      },
      "source": [
        "def dfs(vertex, adj_list, proccessed):\n",
        "  if vertex not in proccessed:\n",
        "    print(vertex)\n",
        "    proccessed.add(vertex)\n",
        "    for v in adj_list[ve]:\n",
        "      dfs(v, adj_list, proccessed)\n",
        "\n",
        "dfs(0, adj_list, set())"
      ],
      "execution_count": null,
      "outputs": [
        {
          "output_type": "stream",
          "name": "stdout",
          "text": [
            "0\n",
            "1\n",
            "2\n",
            "3\n",
            "4\n",
            "5\n",
            "6\n",
            "7\n",
            "8\n",
            "9\n",
            "10\n",
            "11\n"
          ]
        }
      ]
    },
    {
      "cell_type": "code",
      "metadata": {
        "colab": {
          "base_uri": "https://localhost:8080/"
        },
        "id": "UTBQ8eEDmubU",
        "outputId": "fbf84347-77ae-405b-cab8-909303c46578"
      },
      "source": [
        "#Determine wheter a list is a tree or a cycle graph\n",
        "\n",
        "def dfs(vertex, adj_list, proccessed):\n",
        "  if vertex not in proccessed:\n",
        "    print(vertex)\n",
        "    proccessed.add(vertex)\n",
        "    for v in adj_list[vertex]:\n",
        "      dfs(v, adj_list, proccessed)\n",
        "  else:\n",
        "    print(vertex)\n",
        "\n",
        "dfs(0, adj_list, set())"
      ],
      "execution_count": null,
      "outputs": [
        {
          "output_type": "stream",
          "name": "stdout",
          "text": [
            "0\n",
            "1\n",
            "0\n",
            "2\n",
            "1\n",
            "3\n",
            "2\n",
            "4\n",
            "2\n",
            "5\n",
            "1\n",
            "6\n",
            "0\n",
            "7\n",
            "0\n",
            "8\n",
            "7\n",
            "9\n",
            "8\n",
            "10\n",
            "8\n",
            "11\n",
            "7\n"
          ]
        }
      ]
    },
    {
      "cell_type": "code",
      "metadata": {
        "id": "MMLLCycHoicf"
      },
      "source": [
        "from copy import copy, deepcopy"
      ],
      "execution_count": null,
      "outputs": []
    }
  ]
}