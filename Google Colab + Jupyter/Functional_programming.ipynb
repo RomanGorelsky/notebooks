{
  "nbformat": 4,
  "nbformat_minor": 0,
  "metadata": {
    "colab": {
      "name": "Functional programming.ipynb",
      "provenance": [],
      "collapsed_sections": []
    },
    "kernelspec": {
      "name": "python3",
      "display_name": "Python 3"
    },
    "language_info": {
      "name": "python"
    }
  },
  "cells": [
    {
      "cell_type": "markdown",
      "metadata": {
        "id": "I4112U3SWlBD"
      },
      "source": [
        "Императивные программирование - что нужно делать, алгоритм, который мы прописываем\n",
        "Декларативные программирование - готовые функции используем в программе\n",
        "Функциональное программирование - есть подфункции, и надо их использовать для решения"
      ]
    },
    {
      "cell_type": "code",
      "metadata": {
        "colab": {
          "base_uri": "https://localhost:8080/"
        },
        "id": "LDCJ_uzTWey3",
        "outputId": "41e4d531-6807-4bfd-fc21-505cb79bcbd6"
      },
      "source": [
        "# List comprehension\n",
        "\n",
        "[i for i in range(100)]"
      ],
      "execution_count": null,
      "outputs": [
        {
          "output_type": "execute_result",
          "data": {
            "text/plain": [
              "[0,\n",
              " 1,\n",
              " 2,\n",
              " 3,\n",
              " 4,\n",
              " 5,\n",
              " 6,\n",
              " 7,\n",
              " 8,\n",
              " 9,\n",
              " 10,\n",
              " 11,\n",
              " 12,\n",
              " 13,\n",
              " 14,\n",
              " 15,\n",
              " 16,\n",
              " 17,\n",
              " 18,\n",
              " 19,\n",
              " 20,\n",
              " 21,\n",
              " 22,\n",
              " 23,\n",
              " 24,\n",
              " 25,\n",
              " 26,\n",
              " 27,\n",
              " 28,\n",
              " 29,\n",
              " 30,\n",
              " 31,\n",
              " 32,\n",
              " 33,\n",
              " 34,\n",
              " 35,\n",
              " 36,\n",
              " 37,\n",
              " 38,\n",
              " 39,\n",
              " 40,\n",
              " 41,\n",
              " 42,\n",
              " 43,\n",
              " 44,\n",
              " 45,\n",
              " 46,\n",
              " 47,\n",
              " 48,\n",
              " 49,\n",
              " 50,\n",
              " 51,\n",
              " 52,\n",
              " 53,\n",
              " 54,\n",
              " 55,\n",
              " 56,\n",
              " 57,\n",
              " 58,\n",
              " 59,\n",
              " 60,\n",
              " 61,\n",
              " 62,\n",
              " 63,\n",
              " 64,\n",
              " 65,\n",
              " 66,\n",
              " 67,\n",
              " 68,\n",
              " 69,\n",
              " 70,\n",
              " 71,\n",
              " 72,\n",
              " 73,\n",
              " 74,\n",
              " 75,\n",
              " 76,\n",
              " 77,\n",
              " 78,\n",
              " 79,\n",
              " 80,\n",
              " 81,\n",
              " 82,\n",
              " 83,\n",
              " 84,\n",
              " 85,\n",
              " 86,\n",
              " 87,\n",
              " 88,\n",
              " 89,\n",
              " 90,\n",
              " 91,\n",
              " 92,\n",
              " 93,\n",
              " 94,\n",
              " 95,\n",
              " 96,\n",
              " 97,\n",
              " 98,\n",
              " 99]"
            ]
          },
          "metadata": {},
          "execution_count": 1
        }
      ]
    },
    {
      "cell_type": "code",
      "metadata": {
        "id": "_MuYBCHBXfFj"
      },
      "source": [
        "gen = (i for i in range(100))"
      ],
      "execution_count": null,
      "outputs": []
    },
    {
      "cell_type": "code",
      "metadata": {
        "colab": {
          "base_uri": "https://localhost:8080/"
        },
        "id": "ILk99C8dXjWD",
        "outputId": "b29b61ba-af9e-4ab8-9563-978a3543a347"
      },
      "source": [
        "# Что такое генератор\n",
        "\n",
        "#0\n",
        "next(gen)\n",
        "#1\n",
        "next(gen)"
      ],
      "execution_count": null,
      "outputs": [
        {
          "output_type": "execute_result",
          "data": {
            "text/plain": [
              "2"
            ]
          },
          "metadata": {},
          "execution_count": 7
        }
      ]
    },
    {
      "cell_type": "code",
      "metadata": {
        "id": "mcB4QHx7X8ch"
      },
      "source": [
        "def like_r(n):\n",
        "  i = 1\n",
        "  while i < n+1:\n",
        "    yield i # instead of return\n",
        "    i += 1"
      ],
      "execution_count": null,
      "outputs": []
    },
    {
      "cell_type": "code",
      "metadata": {
        "colab": {
          "base_uri": "https://localhost:8080/"
        },
        "id": "1nvGFyw-YHIm",
        "outputId": "7eeae1a2-5aed-42a8-cc52-9adaadfde01a"
      },
      "source": [
        "print(*like_r(10))"
      ],
      "execution_count": null,
      "outputs": [
        {
          "output_type": "stream",
          "name": "stdout",
          "text": [
            "1 2 3 4 5 6 7 8 9 10\n"
          ]
        }
      ]
    },
    {
      "cell_type": "code",
      "metadata": {
        "colab": {
          "base_uri": "https://localhost:8080/"
        },
        "id": "ja25qKHbYO8M",
        "outputId": "ecec0840-9948-41f5-8b8c-77c5337bc2fe"
      },
      "source": [
        "# Built-in functions\n",
        "\n",
        "# filter, map, reduce\n",
        "\n",
        "target_list = [-1, 2, 3, 4, 5]\n",
        "print(*map(lambda x: x**2, target_list))\n",
        "print(*filter(lambda x: x > 0, target_list))"
      ],
      "execution_count": null,
      "outputs": [
        {
          "output_type": "stream",
          "name": "stdout",
          "text": [
            "1 4 9 16 25\n",
            "2 3 4 5\n"
          ]
        }
      ]
    },
    {
      "cell_type": "code",
      "metadata": {
        "colab": {
          "base_uri": "https://localhost:8080/"
        },
        "id": "4globO86ZNHt",
        "outputId": "ea3fa6d8-fee7-48b0-dd28-295064c19990"
      },
      "source": [
        "# all, any\n",
        "\n",
        "# If all true, return True\n",
        "# If one is true, return True\n",
        "\n",
        "print(all(map(lambda x: x >= 10, target_list)))\n",
        "print(any(map(lambda x: x <= 10, target_list)))\n",
        "print(*(map(lambda x: x >= 3, target_list)))"
      ],
      "execution_count": null,
      "outputs": [
        {
          "output_type": "stream",
          "name": "stdout",
          "text": [
            "False\n",
            "True\n",
            "False False True True True\n"
          ]
        }
      ]
    },
    {
      "cell_type": "code",
      "metadata": {
        "id": "RqE-6em_aAQB"
      },
      "source": [
        "# Есть itertools"
      ],
      "execution_count": null,
      "outputs": []
    },
    {
      "cell_type": "code",
      "metadata": {
        "colab": {
          "base_uri": "https://localhost:8080/"
        },
        "id": "Cj9b8kXIcpcs",
        "outputId": "663f377b-b814-4fc4-e7b9-e8e0af11a776"
      },
      "source": [
        "# Посчитать сумму всех чисел с помощью функционального программирования\n",
        "\n",
        "# reduce(lambda x, y: x + y, list(range(10)))\n",
        "print(*filter(lambda x: x % 2 == 0, list(range(10))))"
      ],
      "execution_count": null,
      "outputs": [
        {
          "output_type": "stream",
          "name": "stdout",
          "text": [
            "0 2 4 6 8\n"
          ]
        }
      ]
    }
  ]
}