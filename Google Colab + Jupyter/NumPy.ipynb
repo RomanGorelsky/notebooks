{
  "nbformat": 4,
  "nbformat_minor": 0,
  "metadata": {
    "colab": {
      "name": "NumPy.ipynb",
      "provenance": [],
      "collapsed_sections": []
    },
    "kernelspec": {
      "name": "python3",
      "display_name": "Python 3"
    },
    "language_info": {
      "name": "python"
    }
  },
  "cells": [
    {
      "cell_type": "code",
      "metadata": {
        "colab": {
          "base_uri": "https://localhost:8080/"
        },
        "id": "KIJXBmj5hEJz",
        "outputId": "d03c9795-99fd-4521-8882-b188b3bfde13"
      },
      "source": [
        "!pip install numpy"
      ],
      "execution_count": null,
      "outputs": [
        {
          "output_type": "stream",
          "name": "stdout",
          "text": [
            "Requirement already satisfied: numpy in /usr/local/lib/python3.7/dist-packages (1.19.5)\n"
          ]
        }
      ]
    },
    {
      "cell_type": "code",
      "metadata": {
        "id": "jkHfFVHmhbJl"
      },
      "source": [
        "import numpy as np"
      ],
      "execution_count": null,
      "outputs": []
    },
    {
      "cell_type": "code",
      "metadata": {
        "id": "L6n4V0TjheBB"
      },
      "source": [
        "# Библлиотека для работы с многомерными массивами\n",
        "\n",
        "arr = np.arange(24)\n",
        "bar = list(range(100000))"
      ],
      "execution_count": null,
      "outputs": []
    },
    {
      "cell_type": "code",
      "metadata": {
        "colab": {
          "base_uri": "https://localhost:8080/"
        },
        "id": "ztwOwBEKh-K4",
        "outputId": "05866520-86cb-4324-9f16-be22bac1fdd7"
      },
      "source": [
        "%time for i in range(10): a2 = arr * 2\n",
        "%time for i in range(10): b2 = [i*2 for i in bar]"
      ],
      "execution_count": null,
      "outputs": [
        {
          "output_type": "stream",
          "name": "stdout",
          "text": [
            "CPU times: user 2.84 ms, sys: 0 ns, total: 2.84 ms\n",
            "Wall time: 8.38 ms\n",
            "CPU times: user 71.5 ms, sys: 17.9 ms, total: 89.4 ms\n",
            "Wall time: 89.5 ms\n"
          ]
        }
      ]
    },
    {
      "cell_type": "code",
      "metadata": {
        "colab": {
          "base_uri": "https://localhost:8080/"
        },
        "id": "3nnxy6eBjNnG",
        "outputId": "3cb1e820-666d-4b61-8086-b4e4de1adae1"
      },
      "source": [
        "arr"
      ],
      "execution_count": null,
      "outputs": [
        {
          "output_type": "execute_result",
          "data": {
            "text/plain": [
              "array([    0,     1,     2, ..., 99997, 99998, 99999])"
            ]
          },
          "metadata": {},
          "execution_count": 10
        }
      ]
    },
    {
      "cell_type": "code",
      "metadata": {
        "id": "B9s-NDEOjPlD"
      },
      "source": [
        "b = arr.reshape(4, 6)"
      ],
      "execution_count": null,
      "outputs": []
    },
    {
      "cell_type": "code",
      "metadata": {
        "colab": {
          "base_uri": "https://localhost:8080/"
        },
        "id": "JYAZrMGoj06G",
        "outputId": "d8a248d0-2047-40a4-f531-cfc598c60337"
      },
      "source": [
        "arr.reshape(2, 2, 2, 3)[0]"
      ],
      "execution_count": null,
      "outputs": [
        {
          "output_type": "execute_result",
          "data": {
            "text/plain": [
              "array([[[ 0,  1,  2],\n",
              "        [ 3,  4,  5]],\n",
              "\n",
              "       [[ 6,  7,  8],\n",
              "        [ 9, 10, 11]]])"
            ]
          },
          "metadata": {},
          "execution_count": 19
        }
      ]
    },
    {
      "cell_type": "code",
      "metadata": {
        "colab": {
          "base_uri": "https://localhost:8080/"
        },
        "id": "j0OhCgk7j3U4",
        "outputId": "9db37d51-b1d6-419a-ef43-0dff3127193f"
      },
      "source": [
        "arr.reshape(2, 2, 2, 3)[0][0]"
      ],
      "execution_count": null,
      "outputs": [
        {
          "output_type": "execute_result",
          "data": {
            "text/plain": [
              "array([[0, 1, 2],\n",
              "       [3, 4, 5]])"
            ]
          },
          "metadata": {},
          "execution_count": 20
        }
      ]
    },
    {
      "cell_type": "code",
      "metadata": {
        "colab": {
          "base_uri": "https://localhost:8080/"
        },
        "id": "NpSWiNrOj7T5",
        "outputId": "8b63d149-fa25-49a6-dbe7-3fba7f25892a"
      },
      "source": [
        "arr.reshape(2, 2, 2, 3)[0, 0, 0, 0]"
      ],
      "execution_count": null,
      "outputs": [
        {
          "output_type": "execute_result",
          "data": {
            "text/plain": [
              "0"
            ]
          },
          "metadata": {},
          "execution_count": 21
        }
      ]
    },
    {
      "cell_type": "code",
      "metadata": {
        "colab": {
          "base_uri": "https://localhost:8080/"
        },
        "id": "9rhr0FV4j_Nl",
        "outputId": "3099c4bc-5fd4-45f2-fa76-a355d603c445"
      },
      "source": [
        "b.flatten()"
      ],
      "execution_count": null,
      "outputs": [
        {
          "output_type": "execute_result",
          "data": {
            "text/plain": [
              "array([ 0,  1,  2,  3,  4,  5,  6,  7,  8,  9, 10, 11, 12, 13, 14, 15, 16,\n",
              "       17, 18, 19, 20, 21, 22, 23])"
            ]
          },
          "metadata": {},
          "execution_count": 26
        }
      ]
    },
    {
      "cell_type": "code",
      "metadata": {
        "colab": {
          "base_uri": "https://localhost:8080/"
        },
        "id": "9U2QmJnYkdZo",
        "outputId": "f9957ca4-4ad5-4ef6-8f2d-cd869a7e1ba4"
      },
      "source": [
        "b.shape"
      ],
      "execution_count": null,
      "outputs": [
        {
          "output_type": "execute_result",
          "data": {
            "text/plain": [
              "(4, 6)"
            ]
          },
          "metadata": {},
          "execution_count": 27
        }
      ]
    },
    {
      "cell_type": "code",
      "metadata": {
        "colab": {
          "base_uri": "https://localhost:8080/"
        },
        "id": "kCS96zq8ki3Y",
        "outputId": "9fd964b2-819f-4e00-dfa2-14c5ab96836e"
      },
      "source": [
        "b.ndim"
      ],
      "execution_count": null,
      "outputs": [
        {
          "output_type": "execute_result",
          "data": {
            "text/plain": [
              "2"
            ]
          },
          "metadata": {},
          "execution_count": 28
        }
      ]
    },
    {
      "cell_type": "code",
      "metadata": {
        "colab": {
          "base_uri": "https://localhost:8080/"
        },
        "id": "rrPurYt3krtM",
        "outputId": "28a1f5ee-0893-4995-f3ef-c4b3de76becf"
      },
      "source": [
        "b.size"
      ],
      "execution_count": null,
      "outputs": [
        {
          "output_type": "execute_result",
          "data": {
            "text/plain": [
              "24"
            ]
          },
          "metadata": {},
          "execution_count": 29
        }
      ]
    },
    {
      "cell_type": "code",
      "metadata": {
        "colab": {
          "base_uri": "https://localhost:8080/"
        },
        "id": "dbl0XzU8ktR2",
        "outputId": "515cf1e8-4e42-42aa-b5bf-0be6ef6e40c9"
      },
      "source": [
        "b.itemsize"
      ],
      "execution_count": null,
      "outputs": [
        {
          "output_type": "execute_result",
          "data": {
            "text/plain": [
              "8"
            ]
          },
          "metadata": {},
          "execution_count": 30
        }
      ]
    },
    {
      "cell_type": "code",
      "metadata": {
        "colab": {
          "base_uri": "https://localhost:8080/"
        },
        "id": "j2-0LLAYk0L9",
        "outputId": "1e2813a0-dade-48fd-8261-cfa4a3423242"
      },
      "source": [
        "a = np.array(range(24))\n",
        "a"
      ],
      "execution_count": null,
      "outputs": [
        {
          "output_type": "execute_result",
          "data": {
            "text/plain": [
              "array([ 0,  1,  2,  3,  4,  5,  6,  7,  8,  9, 10, 11, 12, 13, 14, 15, 16,\n",
              "       17, 18, 19, 20, 21, 22, 23])"
            ]
          },
          "metadata": {},
          "execution_count": 32
        }
      ]
    },
    {
      "cell_type": "code",
      "metadata": {
        "colab": {
          "base_uri": "https://localhost:8080/"
        },
        "id": "hTpR2zsak7bC",
        "outputId": "d13714f2-ca2f-4c5b-8c5e-c723aa16f6b7"
      },
      "source": [
        "np.array([1.1, 1.2, 1.3, 1.4]).dtype"
      ],
      "execution_count": null,
      "outputs": [
        {
          "output_type": "execute_result",
          "data": {
            "text/plain": [
              "dtype('float64')"
            ]
          },
          "metadata": {},
          "execution_count": 34
        }
      ]
    },
    {
      "cell_type": "code",
      "metadata": {
        "colab": {
          "base_uri": "https://localhost:8080/"
        },
        "id": "7H_9EDsvlJ5j",
        "outputId": "416c70d2-2e8f-4ea6-cb35-51d4a1b2cb5b"
      },
      "source": [
        "np.random.random(size=10)"
      ],
      "execution_count": null,
      "outputs": [
        {
          "output_type": "execute_result",
          "data": {
            "text/plain": [
              "array([0.58800425, 0.33774583, 0.31737985, 0.21902714, 0.9681703 ,\n",
              "       0.19164587, 0.44470286, 0.32261518, 0.09228377, 0.80954409])"
            ]
          },
          "metadata": {},
          "execution_count": 35
        }
      ]
    },
    {
      "cell_type": "code",
      "metadata": {
        "colab": {
          "base_uri": "https://localhost:8080/"
        },
        "id": "r4iyxJihlQwi",
        "outputId": "4a5248d1-2b97-4e04-e5aa-ec85fda14433"
      },
      "source": [
        "np.random.randint(low = 1, high = 10000, size=(5, 5))"
      ],
      "execution_count": null,
      "outputs": [
        {
          "output_type": "execute_result",
          "data": {
            "text/plain": [
              "array([[3072, 6200, 1611, 2035, 8721],\n",
              "       [8833, 9770, 5487, 7355, 3906],\n",
              "       [3033, 4481, 1659, 2078, 1219],\n",
              "       [8004, 9729, 6568, 8854, 3868],\n",
              "       [ 705, 4109, 2265, 2456, 5026]])"
            ]
          },
          "metadata": {},
          "execution_count": 38
        }
      ]
    },
    {
      "cell_type": "code",
      "metadata": {
        "colab": {
          "base_uri": "https://localhost:8080/"
        },
        "id": "iM3ws2t0lpcg",
        "outputId": "56c033d1-67a1-4cf8-e572-4b4c7d9832d2"
      },
      "source": [
        "np.linspace(0, 1, 101)"
      ],
      "execution_count": null,
      "outputs": [
        {
          "output_type": "execute_result",
          "data": {
            "text/plain": [
              "array([0.  , 0.01, 0.02, 0.03, 0.04, 0.05, 0.06, 0.07, 0.08, 0.09, 0.1 ,\n",
              "       0.11, 0.12, 0.13, 0.14, 0.15, 0.16, 0.17, 0.18, 0.19, 0.2 , 0.21,\n",
              "       0.22, 0.23, 0.24, 0.25, 0.26, 0.27, 0.28, 0.29, 0.3 , 0.31, 0.32,\n",
              "       0.33, 0.34, 0.35, 0.36, 0.37, 0.38, 0.39, 0.4 , 0.41, 0.42, 0.43,\n",
              "       0.44, 0.45, 0.46, 0.47, 0.48, 0.49, 0.5 , 0.51, 0.52, 0.53, 0.54,\n",
              "       0.55, 0.56, 0.57, 0.58, 0.59, 0.6 , 0.61, 0.62, 0.63, 0.64, 0.65,\n",
              "       0.66, 0.67, 0.68, 0.69, 0.7 , 0.71, 0.72, 0.73, 0.74, 0.75, 0.76,\n",
              "       0.77, 0.78, 0.79, 0.8 , 0.81, 0.82, 0.83, 0.84, 0.85, 0.86, 0.87,\n",
              "       0.88, 0.89, 0.9 , 0.91, 0.92, 0.93, 0.94, 0.95, 0.96, 0.97, 0.98,\n",
              "       0.99, 1.  ])"
            ]
          },
          "metadata": {},
          "execution_count": 40
        }
      ]
    },
    {
      "cell_type": "code",
      "metadata": {
        "id": "pJ28uLJXmEbI"
      },
      "source": [
        "a = np.linspace(0, 1, 5)\n",
        "b = np.arange(5)"
      ],
      "execution_count": null,
      "outputs": []
    },
    {
      "cell_type": "code",
      "metadata": {
        "colab": {
          "base_uri": "https://localhost:8080/"
        },
        "id": "pTjW7ZnNmMx7",
        "outputId": "9760ddf0-133e-4cc7-ff43-3db036c4f5e0"
      },
      "source": [
        "a"
      ],
      "execution_count": null,
      "outputs": [
        {
          "output_type": "execute_result",
          "data": {
            "text/plain": [
              "array([0.  , 0.25, 0.5 , 0.75, 1.  ])"
            ]
          },
          "metadata": {},
          "execution_count": 42
        }
      ]
    },
    {
      "cell_type": "code",
      "metadata": {
        "colab": {
          "base_uri": "https://localhost:8080/"
        },
        "id": "LICokdzVmOP5",
        "outputId": "74a17eff-5b43-4778-a1a2-21a9867969de"
      },
      "source": [
        "b"
      ],
      "execution_count": null,
      "outputs": [
        {
          "output_type": "execute_result",
          "data": {
            "text/plain": [
              "array([0, 1, 2, 3, 4])"
            ]
          },
          "metadata": {},
          "execution_count": 43
        }
      ]
    },
    {
      "cell_type": "code",
      "metadata": {
        "colab": {
          "base_uri": "https://localhost:8080/"
        },
        "id": "cEefQX5nmQEU",
        "outputId": "c357b15d-4b6b-40b8-b497-215a7d632b8e"
      },
      "source": [
        "a*b"
      ],
      "execution_count": null,
      "outputs": [
        {
          "output_type": "execute_result",
          "data": {
            "text/plain": [
              "array([0.  , 0.25, 1.  , 2.25, 4.  ])"
            ]
          },
          "metadata": {},
          "execution_count": 44
        }
      ]
    },
    {
      "cell_type": "code",
      "metadata": {
        "colab": {
          "base_uri": "https://localhost:8080/"
        },
        "id": "btXsSRU3mQ6Y",
        "outputId": "5cb4d2b9-926d-4cfc-e54d-f4359bc0ecc5"
      },
      "source": [
        "a+b"
      ],
      "execution_count": null,
      "outputs": [
        {
          "output_type": "execute_result",
          "data": {
            "text/plain": [
              "array([0.  , 1.25, 2.5 , 3.75, 5.  ])"
            ]
          },
          "metadata": {},
          "execution_count": 45
        }
      ]
    },
    {
      "cell_type": "code",
      "metadata": {
        "colab": {
          "base_uri": "https://localhost:8080/"
        },
        "id": "ykq2BT0pmVl5",
        "outputId": "5606a20c-a8d0-43ab-8f8a-cc56be0b09c0"
      },
      "source": [
        "a**b"
      ],
      "execution_count": null,
      "outputs": [
        {
          "output_type": "execute_result",
          "data": {
            "text/plain": [
              "array([1.      , 0.25    , 0.25    , 0.421875, 1.      ])"
            ]
          },
          "metadata": {},
          "execution_count": 46
        }
      ]
    },
    {
      "cell_type": "code",
      "metadata": {
        "colab": {
          "base_uri": "https://localhost:8080/"
        },
        "id": "12QEjPtumXRQ",
        "outputId": "938e59b3-4017-412c-884b-7eae5447d3a3"
      },
      "source": [
        "a@b"
      ],
      "execution_count": null,
      "outputs": [
        {
          "output_type": "execute_result",
          "data": {
            "text/plain": [
              "7.5"
            ]
          },
          "metadata": {},
          "execution_count": 47
        }
      ]
    },
    {
      "cell_type": "code",
      "metadata": {
        "colab": {
          "base_uri": "https://localhost:8080/"
        },
        "id": "1AuRxis2mkpw",
        "outputId": "456b4b63-8c17-4297-d5bb-e65ec04e60de"
      },
      "source": [
        "a > b"
      ],
      "execution_count": null,
      "outputs": [
        {
          "output_type": "execute_result",
          "data": {
            "text/plain": [
              "array([False, False, False, False, False])"
            ]
          },
          "metadata": {},
          "execution_count": 48
        }
      ]
    },
    {
      "cell_type": "code",
      "metadata": {
        "colab": {
          "base_uri": "https://localhost:8080/"
        },
        "id": "PfbWoFPimoTK",
        "outputId": "012d8699-0e2e-491c-fb6f-bb89c87af811"
      },
      "source": [
        "a <= 0.5"
      ],
      "execution_count": null,
      "outputs": [
        {
          "output_type": "execute_result",
          "data": {
            "text/plain": [
              "array([ True,  True,  True, False, False])"
            ]
          },
          "metadata": {},
          "execution_count": 49
        }
      ]
    },
    {
      "cell_type": "code",
      "metadata": {
        "colab": {
          "base_uri": "https://localhost:8080/"
        },
        "id": "OUu5iXNCmxGg",
        "outputId": "3f284dae-b3f8-4cb6-ff53-dad3ed431af4"
      },
      "source": [
        "a[a <= 0.5]"
      ],
      "execution_count": null,
      "outputs": [
        {
          "output_type": "execute_result",
          "data": {
            "text/plain": [
              "array([0.  , 0.25, 0.5 ])"
            ]
          },
          "metadata": {},
          "execution_count": 51
        }
      ]
    },
    {
      "cell_type": "code",
      "metadata": {
        "colab": {
          "base_uri": "https://localhost:8080/"
        },
        "id": "ZM_SlWjJm3FZ",
        "outputId": "94404e00-4e45-4322-d1ac-815a19c8f59d"
      },
      "source": [
        "# if             True False\n",
        "np.where(a <= 0.5, a, 1)"
      ],
      "execution_count": null,
      "outputs": [
        {
          "output_type": "execute_result",
          "data": {
            "text/plain": [
              "array([0.  , 0.25, 0.5 , 1.  , 1.  ])"
            ]
          },
          "metadata": {},
          "execution_count": 54
        }
      ]
    },
    {
      "cell_type": "code",
      "metadata": {
        "colab": {
          "base_uri": "https://localhost:8080/"
        },
        "id": "5qzw8Gz6nXd-",
        "outputId": "b0773635-b4b8-435c-8a8e-6f0fecf62325"
      },
      "source": [
        "a = np.zeros((10, 10))\n",
        "a"
      ],
      "execution_count": null,
      "outputs": [
        {
          "output_type": "execute_result",
          "data": {
            "text/plain": [
              "array([[0., 0., 0., 0., 0., 0., 0., 0., 0., 0.],\n",
              "       [0., 0., 0., 0., 0., 0., 0., 0., 0., 0.],\n",
              "       [0., 0., 0., 0., 0., 0., 0., 0., 0., 0.],\n",
              "       [0., 0., 0., 0., 0., 0., 0., 0., 0., 0.],\n",
              "       [0., 0., 0., 0., 0., 0., 0., 0., 0., 0.],\n",
              "       [0., 0., 0., 0., 0., 0., 0., 0., 0., 0.],\n",
              "       [0., 0., 0., 0., 0., 0., 0., 0., 0., 0.],\n",
              "       [0., 0., 0., 0., 0., 0., 0., 0., 0., 0.],\n",
              "       [0., 0., 0., 0., 0., 0., 0., 0., 0., 0.],\n",
              "       [0., 0., 0., 0., 0., 0., 0., 0., 0., 0.]])"
            ]
          },
          "metadata": {},
          "execution_count": 55
        }
      ]
    },
    {
      "cell_type": "code",
      "metadata": {
        "colab": {
          "base_uri": "https://localhost:8080/"
        },
        "id": "VT46voKTnfYj",
        "outputId": "8a2ed8f3-b7e4-4842-9088-ef8fbd8c8f13"
      },
      "source": [
        "a = np.ones((10, 10))\n",
        "a"
      ],
      "execution_count": null,
      "outputs": [
        {
          "output_type": "execute_result",
          "data": {
            "text/plain": [
              "array([[1., 1., 1., 1., 1., 1., 1., 1., 1., 1.],\n",
              "       [1., 1., 1., 1., 1., 1., 1., 1., 1., 1.],\n",
              "       [1., 1., 1., 1., 1., 1., 1., 1., 1., 1.],\n",
              "       [1., 1., 1., 1., 1., 1., 1., 1., 1., 1.],\n",
              "       [1., 1., 1., 1., 1., 1., 1., 1., 1., 1.],\n",
              "       [1., 1., 1., 1., 1., 1., 1., 1., 1., 1.],\n",
              "       [1., 1., 1., 1., 1., 1., 1., 1., 1., 1.],\n",
              "       [1., 1., 1., 1., 1., 1., 1., 1., 1., 1.],\n",
              "       [1., 1., 1., 1., 1., 1., 1., 1., 1., 1.],\n",
              "       [1., 1., 1., 1., 1., 1., 1., 1., 1., 1.]])"
            ]
          },
          "metadata": {},
          "execution_count": 56
        }
      ]
    },
    {
      "cell_type": "code",
      "metadata": {
        "colab": {
          "base_uri": "https://localhost:8080/"
        },
        "id": "dpyYqLdBnyBd",
        "outputId": "b3e5aaef-a343-4304-d678-27563ec7752b"
      },
      "source": [
        "np.random.random(size=(10, 10))"
      ],
      "execution_count": null,
      "outputs": [
        {
          "output_type": "execute_result",
          "data": {
            "text/plain": [
              "array([[0.61980391, 0.54101738, 0.93711986, 0.62591651, 0.37486075,\n",
              "        0.0342303 , 0.15041689, 0.47326162, 0.72007001, 0.56794187],\n",
              "       [0.25762169, 0.72443391, 0.21474515, 0.10174854, 0.63115404,\n",
              "        0.52327604, 0.03580496, 0.7318937 , 0.4099848 , 0.76386671],\n",
              "       [0.48778274, 0.6955878 , 0.94710222, 0.90969021, 0.96284244,\n",
              "        0.54960151, 0.38414437, 0.30548655, 0.4155359 , 0.07920561],\n",
              "       [0.03678882, 0.57577406, 0.14822349, 0.62931658, 0.58306713,\n",
              "        0.4510782 , 0.81490468, 0.97102636, 0.24015985, 0.60931161],\n",
              "       [0.64369014, 0.14053269, 0.01892958, 0.39788358, 0.56244596,\n",
              "        0.38803164, 0.84146594, 0.62289551, 0.66681426, 0.94306954],\n",
              "       [0.90307308, 0.71738649, 0.62230811, 0.86780051, 0.23824541,\n",
              "        0.50093643, 0.0508111 , 0.18563701, 0.99093341, 0.60478154],\n",
              "       [0.85830695, 0.50090912, 0.57809906, 0.4882686 , 0.32786903,\n",
              "        0.86874379, 0.17278931, 0.37114577, 0.78410197, 0.26595715],\n",
              "       [0.34208931, 0.16519294, 0.43681778, 0.06854141, 0.44877657,\n",
              "        0.07935242, 0.8901247 , 0.16962308, 0.33865844, 0.73900643],\n",
              "       [0.39530695, 0.22919229, 0.91600173, 0.63313803, 0.91652181,\n",
              "        0.75117757, 0.69805841, 0.86371756, 0.8215168 , 0.48932047],\n",
              "       [0.91863479, 0.29499544, 0.06317916, 0.62384301, 0.6315679 ,\n",
              "        0.18976788, 0.67797547, 0.88683001, 0.02420343, 0.9900271 ]])"
            ]
          },
          "metadata": {},
          "execution_count": 57
        }
      ]
    },
    {
      "cell_type": "code",
      "metadata": {
        "colab": {
          "base_uri": "https://localhost:8080/"
        },
        "id": "DHKl3MWMn3x7",
        "outputId": "47eb6dc2-55c9-4464-bcdf-2f0816fde9d7"
      },
      "source": [
        "np.random.random(size=(10, 10)).T"
      ],
      "execution_count": null,
      "outputs": [
        {
          "output_type": "execute_result",
          "data": {
            "text/plain": [
              "array([[0.63671464, 0.35596959, 0.52646494, 0.7176044 , 0.74218655,\n",
              "        0.10491211, 0.44152186, 0.52345157, 0.30818765, 0.66246512],\n",
              "       [0.11715582, 0.40403778, 0.8090376 , 0.84540523, 0.03835414,\n",
              "        0.21832403, 0.08984592, 0.16714887, 0.42743683, 0.30970434],\n",
              "       [0.92478673, 0.38807502, 0.20350362, 0.23774147, 0.39855841,\n",
              "        0.631837  , 0.75794524, 0.47518548, 0.28923547, 0.97079034],\n",
              "       [0.44159066, 0.00267078, 0.68158924, 0.57707713, 0.00966865,\n",
              "        0.21483646, 0.3130556 , 0.34172054, 0.69350976, 0.40755125],\n",
              "       [0.68631014, 0.1992043 , 0.59610174, 0.89269078, 0.41328921,\n",
              "        0.14974861, 0.61736923, 0.78540088, 0.5711514 , 0.67407498],\n",
              "       [0.70059208, 0.08818104, 0.08419836, 0.73821805, 0.72148442,\n",
              "        0.43639488, 0.15427032, 0.40329974, 0.60405428, 0.42321308],\n",
              "       [0.44262583, 0.11896288, 0.20822487, 0.41508139, 0.5497967 ,\n",
              "        0.0741966 , 0.14770645, 0.56911523, 0.80468538, 0.82469196],\n",
              "       [0.47045643, 0.64784692, 0.23390671, 0.89654577, 0.13968283,\n",
              "        0.10453291, 0.64891394, 0.863334  , 0.7744717 , 0.43050494],\n",
              "       [0.2222363 , 0.39985611, 0.73759016, 0.90411648, 0.40231406,\n",
              "        0.50799576, 0.52139062, 0.31401326, 0.10362551, 0.05780165],\n",
              "       [0.17442293, 0.58886635, 0.61716197, 0.27439783, 0.39032764,\n",
              "        0.55579199, 0.81846888, 0.62897876, 0.22503929, 0.70557119]])"
            ]
          },
          "metadata": {},
          "execution_count": 67
        }
      ]
    },
    {
      "cell_type": "code",
      "metadata": {
        "colab": {
          "base_uri": "https://localhost:8080/"
        },
        "id": "_9MweyyHn93e",
        "outputId": "a823f798-220f-4ec6-ebf1-f8e641dde615"
      },
      "source": [
        "a = np.arange(9).reshape(3, 3)\n",
        "b = np.arange(3).reshape(1, 3)\n",
        "print(a, end='\\n\\n')\n",
        "print(b, end='\\n\\n')\n",
        "a*b"
      ],
      "execution_count": null,
      "outputs": [
        {
          "output_type": "stream",
          "name": "stdout",
          "text": [
            "[[0 1 2]\n",
            " [3 4 5]\n",
            " [6 7 8]]\n",
            "\n",
            "[[0 1 2]]\n",
            "\n"
          ]
        },
        {
          "output_type": "execute_result",
          "data": {
            "text/plain": [
              "array([[ 0,  1,  4],\n",
              "       [ 0,  4, 10],\n",
              "       [ 0,  7, 16]])"
            ]
          },
          "metadata": {},
          "execution_count": 68
        }
      ]
    },
    {
      "cell_type": "code",
      "metadata": {
        "colab": {
          "base_uri": "https://localhost:8080/"
        },
        "id": "hBQc6bnVoZ7u",
        "outputId": "b7822aec-5dbc-410b-b4b4-c53f25529d4b"
      },
      "source": [
        "a*a"
      ],
      "execution_count": null,
      "outputs": [
        {
          "output_type": "execute_result",
          "data": {
            "text/plain": [
              "array([[ 0,  1,  4],\n",
              "       [ 9, 16, 25],\n",
              "       [36, 49, 64]])"
            ]
          },
          "metadata": {},
          "execution_count": 69
        }
      ]
    },
    {
      "cell_type": "code",
      "metadata": {
        "colab": {
          "base_uri": "https://localhost:8080/"
        },
        "id": "WgJqqxOxofau",
        "outputId": "36983d63-f88b-4c28-fe28-53ac577ff739"
      },
      "source": [
        "a.dot(b.T)"
      ],
      "execution_count": null,
      "outputs": [
        {
          "output_type": "execute_result",
          "data": {
            "text/plain": [
              "array([[ 5],\n",
              "       [14],\n",
              "       [23]])"
            ]
          },
          "metadata": {},
          "execution_count": 70
        }
      ]
    },
    {
      "cell_type": "code",
      "metadata": {
        "colab": {
          "base_uri": "https://localhost:8080/"
        },
        "id": "HzPXXJxyowle",
        "outputId": "ead6ab20-a19a-41b1-ca1f-57d0cf4f7952"
      },
      "source": [
        "a[1:3,0:2]"
      ],
      "execution_count": null,
      "outputs": [
        {
          "output_type": "execute_result",
          "data": {
            "text/plain": [
              "array([[3, 4],\n",
              "       [6, 7]])"
            ]
          },
          "metadata": {},
          "execution_count": 71
        }
      ]
    },
    {
      "cell_type": "code",
      "metadata": {
        "colab": {
          "base_uri": "https://localhost:8080/"
        },
        "id": "fAhPBW40o8C4",
        "outputId": "66187a38-973a-4e58-b8ef-221bcc7bcce7"
      },
      "source": [
        "np.vstack([a, b])"
      ],
      "execution_count": null,
      "outputs": [
        {
          "output_type": "execute_result",
          "data": {
            "text/plain": [
              "array([[0, 1, 2],\n",
              "       [3, 4, 5],\n",
              "       [6, 7, 8],\n",
              "       [0, 1, 2]])"
            ]
          },
          "metadata": {},
          "execution_count": 72
        }
      ]
    },
    {
      "cell_type": "code",
      "metadata": {
        "id": "eTTw1Njsp0OA"
      },
      "source": [
        "mat = np.matrix(a)"
      ],
      "execution_count": null,
      "outputs": []
    },
    {
      "cell_type": "code",
      "metadata": {
        "colab": {
          "base_uri": "https://localhost:8080/"
        },
        "id": "eZVbuGGdqPi_",
        "outputId": "7012dfc0-d628-45b5-ab91-2be101e4f110"
      },
      "source": [
        "mat"
      ],
      "execution_count": null,
      "outputs": [
        {
          "output_type": "execute_result",
          "data": {
            "text/plain": [
              "matrix([[0, 1, 2],\n",
              "        [3, 4, 5],\n",
              "        [6, 7, 8]])"
            ]
          },
          "metadata": {},
          "execution_count": 76
        }
      ]
    },
    {
      "cell_type": "code",
      "metadata": {
        "colab": {
          "base_uri": "https://localhost:8080/"
        },
        "id": "c5G6eETbqQ_i",
        "outputId": "2abf358d-00d3-43cc-d078-ddd8afa71979"
      },
      "source": [
        "mat.sum()"
      ],
      "execution_count": null,
      "outputs": [
        {
          "output_type": "execute_result",
          "data": {
            "text/plain": [
              "36"
            ]
          },
          "metadata": {},
          "execution_count": 77
        }
      ]
    },
    {
      "cell_type": "code",
      "metadata": {
        "colab": {
          "base_uri": "https://localhost:8080/"
        },
        "id": "e9Zkun0SqTLe",
        "outputId": "83aa762d-d4ce-494b-e5a4-01ce2912edca"
      },
      "source": [
        "mat = np.eye(10)\n",
        "mat"
      ],
      "execution_count": null,
      "outputs": [
        {
          "output_type": "execute_result",
          "data": {
            "text/plain": [
              "array([[1., 0., 0., 0., 0., 0., 0., 0., 0., 0.],\n",
              "       [0., 1., 0., 0., 0., 0., 0., 0., 0., 0.],\n",
              "       [0., 0., 1., 0., 0., 0., 0., 0., 0., 0.],\n",
              "       [0., 0., 0., 1., 0., 0., 0., 0., 0., 0.],\n",
              "       [0., 0., 0., 0., 1., 0., 0., 0., 0., 0.],\n",
              "       [0., 0., 0., 0., 0., 1., 0., 0., 0., 0.],\n",
              "       [0., 0., 0., 0., 0., 0., 1., 0., 0., 0.],\n",
              "       [0., 0., 0., 0., 0., 0., 0., 1., 0., 0.],\n",
              "       [0., 0., 0., 0., 0., 0., 0., 0., 1., 0.],\n",
              "       [0., 0., 0., 0., 0., 0., 0., 0., 0., 1.]])"
            ]
          },
          "metadata": {},
          "execution_count": 78
        }
      ]
    },
    {
      "cell_type": "code",
      "metadata": {
        "colab": {
          "base_uri": "https://localhost:8080/"
        },
        "id": "SdNv0lWrq0JX",
        "outputId": "fd0fecb1-0cd0-4bbc-ba50-7484e4565ec3"
      },
      "source": [
        "np.where(mat != 0)"
      ],
      "execution_count": null,
      "outputs": [
        {
          "output_type": "execute_result",
          "data": {
            "text/plain": [
              "(array([0, 1, 2, 3, 4, 5, 6, 7, 8, 9]), array([0, 1, 2, 3, 4, 5, 6, 7, 8, 9]))"
            ]
          },
          "metadata": {},
          "execution_count": 79
        }
      ]
    },
    {
      "cell_type": "code",
      "metadata": {
        "colab": {
          "base_uri": "https://localhost:8080/"
        },
        "id": "XxiN5iBbq7oy",
        "outputId": "88ef5ccb-8ff8-4e1a-db2c-4bebc61ce702"
      },
      "source": [
        "np.nonzero(mat)"
      ],
      "execution_count": null,
      "outputs": [
        {
          "output_type": "execute_result",
          "data": {
            "text/plain": [
              "(array([0, 1, 2, 3, 4, 5, 6, 7, 8, 9]), array([0, 1, 2, 3, 4, 5, 6, 7, 8, 9]))"
            ]
          },
          "metadata": {},
          "execution_count": 80
        }
      ]
    },
    {
      "cell_type": "code",
      "metadata": {
        "colab": {
          "base_uri": "https://localhost:8080/"
        },
        "id": "lJNqFsTtq_ur",
        "outputId": "50ccd266-1273-4f53-f7a6-b4c97f878009"
      },
      "source": [
        "mar = np.matrix(np.random.randint(0, 10, 100).reshape(10, 10))\n",
        "mar"
      ],
      "execution_count": null,
      "outputs": [
        {
          "output_type": "execute_result",
          "data": {
            "text/plain": [
              "matrix([[5, 3, 5, 9, 7, 4, 6, 4, 7, 8],\n",
              "        [7, 8, 8, 2, 5, 8, 4, 1, 2, 5],\n",
              "        [0, 5, 3, 6, 1, 2, 4, 3, 2, 0],\n",
              "        [4, 2, 2, 7, 4, 8, 0, 5, 3, 4],\n",
              "        [1, 4, 6, 1, 6, 5, 7, 5, 9, 3],\n",
              "        [4, 9, 1, 6, 2, 4, 6, 3, 7, 3],\n",
              "        [5, 7, 5, 6, 9, 8, 6, 8, 2, 3],\n",
              "        [4, 3, 4, 8, 8, 3, 4, 4, 6, 1],\n",
              "        [4, 2, 9, 5, 6, 7, 6, 5, 7, 8],\n",
              "        [9, 8, 0, 1, 9, 2, 0, 3, 6, 2]])"
            ]
          },
          "metadata": {},
          "execution_count": 94
        }
      ]
    },
    {
      "cell_type": "code",
      "metadata": {
        "colab": {
          "base_uri": "https://localhost:8080/"
        },
        "id": "TEjMMxGZrPYX",
        "outputId": "6ea76300-e43e-4be8-87fa-50f7a615921d"
      },
      "source": [
        "mar.max()"
      ],
      "execution_count": null,
      "outputs": [
        {
          "output_type": "execute_result",
          "data": {
            "text/plain": [
              "9"
            ]
          },
          "metadata": {},
          "execution_count": 85
        }
      ]
    },
    {
      "cell_type": "code",
      "metadata": {
        "colab": {
          "base_uri": "https://localhost:8080/"
        },
        "id": "27OCqcIerRkx",
        "outputId": "b4f9f845-d068-489d-be93-c680842bafbe"
      },
      "source": [
        "mar.min()"
      ],
      "execution_count": null,
      "outputs": [
        {
          "output_type": "execute_result",
          "data": {
            "text/plain": [
              "0"
            ]
          },
          "metadata": {},
          "execution_count": 86
        }
      ]
    },
    {
      "cell_type": "code",
      "metadata": {
        "colab": {
          "base_uri": "https://localhost:8080/"
        },
        "id": "YpBzqOQfrZWE",
        "outputId": "7de345d6-0bf3-4611-e971-789bb4149035"
      },
      "source": [
        "mar.mean()"
      ],
      "execution_count": null,
      "outputs": [
        {
          "output_type": "execute_result",
          "data": {
            "text/plain": [
              "5.07"
            ]
          },
          "metadata": {},
          "execution_count": 88
        }
      ]
    },
    {
      "cell_type": "code",
      "metadata": {
        "colab": {
          "base_uri": "https://localhost:8080/"
        },
        "id": "UoCE5uSxriJq",
        "outputId": "37b2ad68-ebd0-4273-8dd5-4b6982e94d1f"
      },
      "source": [
        "mar[0, :] = 1\n",
        "mar[:, 0] = 1\n",
        "mar[:, 9] = 1\n",
        "mar[9, :] = 1\n",
        "mar"
      ],
      "execution_count": null,
      "outputs": [
        {
          "output_type": "execute_result",
          "data": {
            "text/plain": [
              "matrix([[1, 1, 1, 1, 1, 1, 1, 1, 1, 1],\n",
              "        [1, 8, 8, 2, 5, 8, 4, 1, 2, 1],\n",
              "        [1, 5, 3, 6, 1, 2, 4, 3, 2, 1],\n",
              "        [1, 2, 2, 7, 4, 8, 0, 5, 3, 1],\n",
              "        [1, 4, 6, 1, 6, 5, 7, 5, 9, 1],\n",
              "        [1, 9, 1, 6, 2, 4, 6, 3, 7, 1],\n",
              "        [1, 7, 5, 6, 9, 8, 6, 8, 2, 1],\n",
              "        [1, 3, 4, 8, 8, 3, 4, 4, 6, 1],\n",
              "        [1, 2, 9, 5, 6, 7, 6, 5, 7, 1],\n",
              "        [1, 1, 1, 1, 1, 1, 1, 1, 1, 1]])"
            ]
          },
          "metadata": {},
          "execution_count": 95
        }
      ]
    },
    {
      "cell_type": "code",
      "metadata": {
        "colab": {
          "base_uri": "https://localhost:8080/"
        },
        "id": "ZsiD_IvcrwPe",
        "outputId": "feb0a081-8941-4586-adc6-0505d8a7e1cb"
      },
      "source": [
        "mar[1:-1, 1:-1] = 0\n",
        "mar"
      ],
      "execution_count": null,
      "outputs": [
        {
          "output_type": "execute_result",
          "data": {
            "text/plain": [
              "matrix([[1, 1, 1, 1, 1, 1, 1, 1, 1, 1],\n",
              "        [1, 0, 0, 0, 0, 0, 0, 0, 0, 1],\n",
              "        [1, 0, 0, 0, 0, 0, 0, 0, 0, 1],\n",
              "        [1, 0, 0, 0, 0, 0, 0, 0, 0, 1],\n",
              "        [1, 0, 0, 0, 0, 0, 0, 0, 0, 1],\n",
              "        [1, 0, 0, 0, 0, 0, 0, 0, 0, 1],\n",
              "        [1, 0, 0, 0, 0, 0, 0, 0, 0, 1],\n",
              "        [1, 0, 0, 0, 0, 0, 0, 0, 0, 1],\n",
              "        [1, 0, 0, 0, 0, 0, 0, 0, 0, 1],\n",
              "        [1, 1, 1, 1, 1, 1, 1, 1, 1, 1]])"
            ]
          },
          "metadata": {},
          "execution_count": 96
        }
      ]
    },
    {
      "cell_type": "code",
      "metadata": {
        "colab": {
          "base_uri": "https://localhost:8080/"
        },
        "id": "SxcWF0d3sHvp",
        "outputId": "3f2dc174-6f6e-4cdc-f7c6-aa070c5c1181"
      },
      "source": [
        "a = np.eye(10)\n",
        "np.diag(a, k = 0)"
      ],
      "execution_count": null,
      "outputs": [
        {
          "output_type": "execute_result",
          "data": {
            "text/plain": [
              "array([1., 1., 1., 1., 1., 1., 1., 1., 1., 1.])"
            ]
          },
          "metadata": {},
          "execution_count": 100
        }
      ]
    },
    {
      "cell_type": "code",
      "metadata": {
        "colab": {
          "base_uri": "https://localhost:8080/"
        },
        "id": "8mA2k882sdvf",
        "outputId": "ed6a2d8b-8e5a-4186-cfe0-bd83ad5c5d66"
      },
      "source": [
        "# Below main diagonal \n",
        "np.diag(a, k = -1)"
      ],
      "execution_count": null,
      "outputs": [
        {
          "output_type": "execute_result",
          "data": {
            "text/plain": [
              "array([0., 0., 0., 0., 0., 0., 0., 0., 0.])"
            ]
          },
          "metadata": {},
          "execution_count": 101
        }
      ]
    },
    {
      "cell_type": "code",
      "metadata": {
        "colab": {
          "base_uri": "https://localhost:8080/"
        },
        "id": "b_2j58D0snCk",
        "outputId": "6638330d-872a-4408-df02-8ffa457b0dc3"
      },
      "source": [
        "# Above main diagonal \n",
        "np.diag(a, k = 1)"
      ],
      "execution_count": null,
      "outputs": [
        {
          "output_type": "execute_result",
          "data": {
            "text/plain": [
              "array([0., 0., 0., 0., 0., 0., 0., 0., 0.])"
            ]
          },
          "metadata": {},
          "execution_count": 102
        }
      ]
    },
    {
      "cell_type": "code",
      "metadata": {
        "colab": {
          "base_uri": "https://localhost:8080/"
        },
        "id": "43LnVku2supO",
        "outputId": "966e9b57-ef9d-408b-9757-471b423adc01"
      },
      "source": [
        "a = np.diag(np.arange(1, 5), k = -1)\n",
        "a"
      ],
      "execution_count": null,
      "outputs": [
        {
          "output_type": "execute_result",
          "data": {
            "text/plain": [
              "array([[0, 0, 0, 0, 0],\n",
              "       [1, 0, 0, 0, 0],\n",
              "       [0, 2, 0, 0, 0],\n",
              "       [0, 0, 3, 0, 0],\n",
              "       [0, 0, 0, 4, 0]])"
            ]
          },
          "metadata": {},
          "execution_count": 103
        }
      ]
    },
    {
      "cell_type": "code",
      "metadata": {
        "colab": {
          "base_uri": "https://localhost:8080/"
        },
        "id": "3eZkl8HPs17P",
        "outputId": "d13c907f-3a60-4eec-b263-3d4e72a3b528"
      },
      "source": [
        "a = np.diag(np.arange(1, 5), k = 0)\n",
        "a"
      ],
      "execution_count": null,
      "outputs": [
        {
          "output_type": "execute_result",
          "data": {
            "text/plain": [
              "array([[1, 0, 0, 0],\n",
              "       [0, 2, 0, 0],\n",
              "       [0, 0, 3, 0],\n",
              "       [0, 0, 0, 4]])"
            ]
          },
          "metadata": {},
          "execution_count": 104
        }
      ]
    },
    {
      "cell_type": "code",
      "metadata": {
        "colab": {
          "base_uri": "https://localhost:8080/"
        },
        "id": "B-4Apv5hs6WY",
        "outputId": "9f5f67f1-4971-417c-bf04-c5f7b2245d4c"
      },
      "source": [
        "a = np.matrix(np.arange(15).reshape(5, 3))\n",
        "b = np.matrix(np.arange(6).reshape(3, 2))\n",
        "a"
      ],
      "execution_count": null,
      "outputs": [
        {
          "output_type": "execute_result",
          "data": {
            "text/plain": [
              "matrix([[ 0,  1,  2],\n",
              "        [ 3,  4,  5],\n",
              "        [ 6,  7,  8],\n",
              "        [ 9, 10, 11],\n",
              "        [12, 13, 14]])"
            ]
          },
          "metadata": {},
          "execution_count": 107
        }
      ]
    },
    {
      "cell_type": "code",
      "metadata": {
        "colab": {
          "base_uri": "https://localhost:8080/"
        },
        "id": "5bR-PyVptOhr",
        "outputId": "725775de-e68e-4dcb-9a81-4da90b07a478"
      },
      "source": [
        "b"
      ],
      "execution_count": null,
      "outputs": [
        {
          "output_type": "execute_result",
          "data": {
            "text/plain": [
              "matrix([[0, 1],\n",
              "        [2, 3],\n",
              "        [4, 5]])"
            ]
          },
          "metadata": {},
          "execution_count": 108
        }
      ]
    },
    {
      "cell_type": "code",
      "metadata": {
        "colab": {
          "base_uri": "https://localhost:8080/"
        },
        "id": "ZV3gwqartJ2z",
        "outputId": "8f21b91f-929e-4d36-da08-3675e24fafcc"
      },
      "source": [
        "a*b"
      ],
      "execution_count": null,
      "outputs": [
        {
          "output_type": "execute_result",
          "data": {
            "text/plain": [
              "matrix([[ 10,  13],\n",
              "        [ 28,  40],\n",
              "        [ 46,  67],\n",
              "        [ 64,  94],\n",
              "        [ 82, 121]])"
            ]
          },
          "metadata": {},
          "execution_count": 106
        }
      ]
    },
    {
      "cell_type": "code",
      "metadata": {
        "colab": {
          "base_uri": "https://localhost:8080/"
        },
        "id": "MiekRicztPp5",
        "outputId": "af2bf624-ae3d-4790-bd66-b4708c35d17b"
      },
      "source": [
        "a@b"
      ],
      "execution_count": null,
      "outputs": [
        {
          "output_type": "execute_result",
          "data": {
            "text/plain": [
              "matrix([[ 10,  13],\n",
              "        [ 28,  40],\n",
              "        [ 46,  67],\n",
              "        [ 64,  94],\n",
              "        [ 82, 121]])"
            ]
          },
          "metadata": {},
          "execution_count": 109
        }
      ]
    },
    {
      "cell_type": "code",
      "metadata": {
        "colab": {
          "base_uri": "https://localhost:8080/"
        },
        "id": "2-TkfWhNtdkd",
        "outputId": "44a9bbd6-e21c-426c-aab6-b6d933bd5f88"
      },
      "source": [
        "abc = np.arange(25)\n",
        "abc"
      ],
      "execution_count": null,
      "outputs": [
        {
          "output_type": "execute_result",
          "data": {
            "text/plain": [
              "array([ 0,  1,  2,  3,  4,  5,  6,  7,  8,  9, 10, 11, 12, 13, 14, 15, 16,\n",
              "       17, 18, 19, 20, 21, 22, 23, 24])"
            ]
          },
          "metadata": {},
          "execution_count": 113
        }
      ]
    },
    {
      "cell_type": "code",
      "metadata": {
        "colab": {
          "base_uri": "https://localhost:8080/"
        },
        "id": "LSSzbETothmu",
        "outputId": "4571e6b6-1725-4760-fb28-f6f2c798cd8a"
      },
      "source": [
        "np.where((abc < 5) | (abc > 15), -abc, abc)"
      ],
      "execution_count": null,
      "outputs": [
        {
          "output_type": "execute_result",
          "data": {
            "text/plain": [
              "array([  0,  -1,  -2,  -3,  -4,   5,   6,   7,   8,   9,  10,  11,  12,\n",
              "        13,  14,  15, -16, -17, -18, -19, -20, -21, -22, -23, -24])"
            ]
          },
          "metadata": {},
          "execution_count": 116
        }
      ]
    }
  ]
}