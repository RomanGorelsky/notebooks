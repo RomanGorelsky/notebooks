{
  "nbformat": 4,
  "nbformat_minor": 0,
  "metadata": {
    "colab": {
      "name": "DataStructures.ipynb",
      "provenance": [],
      "collapsed_sections": []
    },
    "kernelspec": {
      "name": "python3",
      "display_name": "Python 3"
    },
    "language_info": {
      "name": "python"
    }
  },
  "cells": [
    {
      "cell_type": "code",
      "metadata": {
        "colab": {
          "base_uri": "https://localhost:8080/"
        },
        "id": "I0sQh18-ZBHG",
        "outputId": "898a9c8c-0e3f-4e57-a943-57058aba3fe5"
      },
      "source": [
        "import math\n",
        "\n",
        "\n",
        "def func(l, n, a):\n",
        "  if n == l:\n",
        "    return math.sqrt(n*a)\n",
        "  \n",
        "  return math.sqrt(l*a + func(l + 1, n, a))\n",
        "\n",
        "n = int(input())\n",
        "a = int(input())\n",
        "func(1, n, a)"
      ],
      "execution_count": null,
      "outputs": [
        {
          "name": "stdout",
          "output_type": "stream",
          "text": [
            "3\n",
            "2\n"
          ]
        },
        {
          "output_type": "execute_result",
          "data": {
            "text/plain": [
              "2.1306300854586997"
            ]
          },
          "metadata": {},
          "execution_count": 1
        }
      ]
    },
    {
      "cell_type": "markdown",
      "metadata": {
        "id": "xxFtIGbPftvD"
      },
      "source": [
        "**Data Structures**"
      ]
    },
    {
      "cell_type": "markdown",
      "metadata": {
        "id": "15AftXswgsDP"
      },
      "source": [
        "Stacks\n",
        "\n",
        "\n",
        "push(x) - adds element x to the stack\n",
        "\n",
        "\n",
        "\n",
        "pop() - removes the last added element"
      ]
    },
    {
      "cell_type": "code",
      "metadata": {
        "colab": {
          "base_uri": "https://localhost:8080/"
        },
        "id": "bxXLkzDBgIip",
        "outputId": "51349bef-afd4-4dd1-f448-0b1f3d36ade3"
      },
      "source": [
        "stack = [3, 4, 5]\n",
        "stack.pop()\n",
        "stack"
      ],
      "execution_count": null,
      "outputs": [
        {
          "output_type": "execute_result",
          "data": {
            "text/plain": [
              "[3, 4]"
            ]
          },
          "metadata": {},
          "execution_count": 13
        }
      ]
    },
    {
      "cell_type": "markdown",
      "metadata": {
        "id": "7WHbNp-RgpS8"
      },
      "source": [
        "Queues"
      ]
    },
    {
      "cell_type": "markdown",
      "metadata": {
        "id": "HeU7Y70zg0MO"
      },
      "source": [
        "While first one is not gone, the last one can't get out"
      ]
    },
    {
      "cell_type": "code",
      "metadata": {
        "colab": {
          "base_uri": "https://localhost:8080/"
        },
        "id": "CBgyuNrqgs6E",
        "outputId": "d35effb0-3c61-45ac-8eaa-c8f05c01c2b3"
      },
      "source": [
        "from collections import deque\n",
        "\n",
        "queue = deque([1, 2, 3])\n",
        "queue.append(4)\n",
        "print(queue)\n",
        "queue.pop()\n",
        "print(queue)"
      ],
      "execution_count": null,
      "outputs": [
        {
          "output_type": "stream",
          "name": "stdout",
          "text": [
            "deque([1, 2, 3, 4])\n",
            "deque([1, 2, 3])\n"
          ]
        }
      ]
    },
    {
      "cell_type": "markdown",
      "metadata": {
        "id": "1LIm8-ClhcSA"
      },
      "source": [
        "Heap - binary tree (не более двух потомков + сыновья меньше родителя) \n",
        "\n",
        "Заполнется слева направо, пока не будет заполнена"
      ]
    },
    {
      "cell_type": "markdown",
      "metadata": {
        "id": "Cb9f99bDifNa"
      },
      "source": [
        "В списке - корень = 0; сыновья1 = 1, 2; сыновья 2 = 2 \\* 1+1, 2 \\* 1 + 2, 2 \\* 2 + 1, 2 \\* 2 + 2 ..."
      ]
    },
    {
      "cell_type": "code",
      "metadata": {
        "id": "dqaLrhkdiewj"
      },
      "source": [
        "import heapq"
      ],
      "execution_count": null,
      "outputs": []
    },
    {
      "cell_type": "code",
      "metadata": {
        "colab": {
          "base_uri": "https://localhost:8080/"
        },
        "id": "C6mHRXopiCMH",
        "outputId": "edb9fc84-1a14-4e74-d8b4-6568cf6e1b79"
      },
      "source": [
        "ls = [-4, -10, -9, -1, -2]\n",
        "heapq.heapify(ls)\n",
        "print(ls)\n",
        "heapq._heapify_max(ls)\n",
        "ls"
      ],
      "execution_count": null,
      "outputs": [
        {
          "output_type": "stream",
          "name": "stdout",
          "text": [
            "[-10, -4, -9, -1, -2]\n"
          ]
        },
        {
          "output_type": "execute_result",
          "data": {
            "text/plain": [
              "[-1, -2, -9, -4, -10]"
            ]
          },
          "metadata": {},
          "execution_count": 20
        }
      ]
    },
    {
      "cell_type": "code",
      "metadata": {
        "id": "SS1vZhaioi3G"
      },
      "source": [
        "class Heap:\n",
        "  "
      ],
      "execution_count": null,
      "outputs": []
    }
  ]
}