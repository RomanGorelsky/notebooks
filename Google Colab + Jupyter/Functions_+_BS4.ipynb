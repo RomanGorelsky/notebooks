{
  "nbformat": 4,
  "nbformat_minor": 0,
  "metadata": {
    "colab": {
      "name": "Functions + BS4.ipynb",
      "provenance": []
    },
    "kernelspec": {
      "name": "python3",
      "display_name": "Python 3"
    },
    "language_info": {
      "name": "python"
    }
  },
  "cells": [
    {
      "cell_type": "code",
      "metadata": {
        "colab": {
          "base_uri": "https://localhost:8080/"
        },
        "id": "OB9E-FEjI-DW",
        "outputId": "5ad5cf2b-4bf2-4975-b6a5-c6e1c09589d5"
      },
      "source": [
        "# docstring - описание функции\n",
        "\n",
        "def double(x):\n",
        "  return x*2\n",
        "\n",
        "y = double(10)\n",
        "y"
      ],
      "execution_count": null,
      "outputs": [
        {
          "output_type": "execute_result",
          "data": {
            "text/plain": [
              "20"
            ]
          },
          "metadata": {},
          "execution_count": 1
        }
      ]
    },
    {
      "cell_type": "code",
      "metadata": {
        "colab": {
          "base_uri": "https://localhost:8080/"
        },
        "id": "yOnPX8ngMEqI",
        "outputId": "c1051d67-7238-4731-a1fe-4e8be2f9bbcd"
      },
      "source": [
        "def fib(n):\n",
        "  a, b = 0, 1\n",
        "  while a < n:\n",
        "    print(a, end=\" \")\n",
        "    a, b = b, a + b\n",
        "  print()\n",
        "\n",
        "A = fib(100)\n",
        "A"
      ],
      "execution_count": null,
      "outputs": [
        {
          "output_type": "stream",
          "name": "stdout",
          "text": [
            "0 1 1 2 3 5 8 13 21 34 55 89 \n"
          ]
        }
      ]
    },
    {
      "cell_type": "code",
      "metadata": {
        "colab": {
          "base_uri": "https://localhost:8080/"
        },
        "id": "JcHoRpADMl6t",
        "outputId": "60467668-0535-4783-f83f-f4e4ae605a15"
      },
      "source": [
        "def fib(n):\n",
        "  result = []\n",
        "  a, b = 0, 1\n",
        "  while a < n:\n",
        "    result.append(a)\n",
        "    a, b = b, a + b\n",
        "  return result\n",
        "\n",
        "A = fib(100)\n",
        "A"
      ],
      "execution_count": null,
      "outputs": [
        {
          "output_type": "execute_result",
          "data": {
            "text/plain": [
              "[0, 1, 1, 2, 3, 5, 8, 13, 21, 34, 55, 89]"
            ]
          },
          "metadata": {},
          "execution_count": 3
        }
      ]
    },
    {
      "cell_type": "code",
      "metadata": {
        "colab": {
          "base_uri": "https://localhost:8080/"
        },
        "id": "j1f35IDsNHo7",
        "outputId": "eacc8b00-f64e-41e3-cf5a-b638e88e4f20"
      },
      "source": [
        "# Рекурсия + факториал\n",
        "\n",
        "def fact(n):\n",
        "  if n == 1:\n",
        "    return 1\n",
        "  else:\n",
        "    return n * fact(n-1)\n",
        "\n",
        "fact(3)\n",
        "\n",
        "# В рекурсии всегда нужна точка выхода! ( 4 и 5 строка )"
      ],
      "execution_count": null,
      "outputs": [
        {
          "output_type": "execute_result",
          "data": {
            "text/plain": [
              "6"
            ]
          },
          "metadata": {},
          "execution_count": 4
        }
      ]
    },
    {
      "cell_type": "code",
      "metadata": {
        "colab": {
          "base_uri": "https://localhost:8080/"
        },
        "id": "Hn1O3L4BOJD_",
        "outputId": "4ecd522f-66a6-4639-cfd0-ccf2d784bed6"
      },
      "source": [
        "def pow(a, b):\n",
        "  if b == 0:\n",
        "    return 1\n",
        "  if b == 1:\n",
        "    return a\n",
        "  return a*pow(a, b-1)\n",
        "\n",
        "pow(4, 3)"
      ],
      "execution_count": null,
      "outputs": [
        {
          "output_type": "execute_result",
          "data": {
            "text/plain": [
              "64"
            ]
          },
          "metadata": {},
          "execution_count": 6
        }
      ]
    },
    {
      "cell_type": "code",
      "metadata": {
        "colab": {
          "base_uri": "https://localhost:8080/"
        },
        "id": "6KoLB3_tO9Qi",
        "outputId": "28241ce6-851e-4f4a-b232-10960fce3d19"
      },
      "source": [
        "myPrint = print\n",
        "myPrint(\"HI\")"
      ],
      "execution_count": null,
      "outputs": [
        {
          "output_type": "stream",
          "name": "stdout",
          "text": [
            "HI\n"
          ]
        }
      ]
    },
    {
      "cell_type": "code",
      "metadata": {
        "colab": {
          "base_uri": "https://localhost:8080/"
        },
        "id": "dZxWMzHKOqyY",
        "outputId": "86a9b037-31aa-4a16-f0ce-9ceab256cd62"
      },
      "source": [
        "# Lambda\n",
        "\n",
        "def apply(f):\n",
        "  return f(1)\n",
        "\n",
        "t = apply(lambda x: x + 4)\n",
        "print(t)"
      ],
      "execution_count": null,
      "outputs": [
        {
          "output_type": "stream",
          "name": "stdout",
          "text": [
            "5\n"
          ]
        }
      ]
    },
    {
      "cell_type": "code",
      "metadata": {
        "colab": {
          "base_uri": "https://localhost:8080/"
        },
        "id": "cDBnRmgcQXqi",
        "outputId": "b0da837f-1093-475a-afcd-10d25dc4a81f"
      },
      "source": [
        "def funcx(*args):\n",
        "  print(type(args))\n",
        "  for arg in args:\n",
        "    print(arg)\n",
        "\n",
        "funcx(1, 2, 3, 4, 5, 6, 7, 8, 9, 10)"
      ],
      "execution_count": null,
      "outputs": [
        {
          "output_type": "stream",
          "name": "stdout",
          "text": [
            "<class 'tuple'>\n",
            "1\n",
            "2\n",
            "3\n",
            "4\n",
            "5\n",
            "6\n",
            "7\n",
            "8\n",
            "9\n",
            "10\n"
          ]
        }
      ]
    }
  ]
}