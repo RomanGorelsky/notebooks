{
  "nbformat": 4,
  "nbformat_minor": 0,
  "metadata": {
    "colab": {
      "name": "OOP-Pyhton.ipynb",
      "provenance": [],
      "collapsed_sections": []
    },
    "kernelspec": {
      "name": "python3",
      "display_name": "Python 3"
    },
    "language_info": {
      "name": "python"
    }
  },
  "cells": [
    {
      "cell_type": "code",
      "metadata": {
        "colab": {
          "base_uri": "https://localhost:8080/"
        },
        "id": "SkXyCUzwxoaj",
        "outputId": "5a9c2d61-c47c-4c04-bafb-94cc8ddb1711"
      },
      "source": [
        "class MyClass:\n",
        "  pass\n",
        "\n",
        "obj1 = MyClass()\n",
        "obj2 = MyClass()\n",
        "obj3 = int()\n",
        "\n",
        "print(obj1)\n",
        "print(type(obj1))\n",
        "\n",
        "print(obj2)\n",
        "print(type(obj2))\n",
        "\n",
        "print(obj3)\n",
        "print(type(obj3))"
      ],
      "execution_count": null,
      "outputs": [
        {
          "output_type": "stream",
          "name": "stdout",
          "text": [
            "<__main__.MyClass object at 0x7f1588278290>\n",
            "<class '__main__.MyClass'>\n",
            "<__main__.MyClass object at 0x7f1588278b10>\n",
            "<class '__main__.MyClass'>\n",
            "0\n",
            "<class 'int'>\n"
          ]
        }
      ]
    },
    {
      "cell_type": "code",
      "metadata": {
        "colab": {
          "base_uri": "https://localhost:8080/"
        },
        "id": "AKFLj5ZyzmUw",
        "outputId": "fe6879f2-7b90-4b00-e0cc-ad054d146652"
      },
      "source": [
        "class Employee:\n",
        "  def __init__(self):\n",
        "    print(\"Employee created\")\n",
        "  def __del__(self):\n",
        "    print(\"Desctructor called. Employee destroyed.\")\n",
        "\n",
        "obj = Employee()\n",
        "del obj"
      ],
      "execution_count": null,
      "outputs": [
        {
          "output_type": "stream",
          "name": "stdout",
          "text": [
            "Employee created\n",
            "Desctructor called. Employee destroyed.\n"
          ]
        }
      ]
    },
    {
      "cell_type": "code",
      "metadata": {
        "id": "K0NvfDYy0ne7"
      },
      "source": [
        "a = str(\"aa aa\")"
      ],
      "execution_count": null,
      "outputs": []
    },
    {
      "cell_type": "code",
      "metadata": {
        "colab": {
          "base_uri": "https://localhost:8080/"
        },
        "id": "tdst_YRZ0qvm",
        "outputId": "bcb7edfe-64a5-4b6c-cc27-d95ca67306ad"
      },
      "source": [
        "a.split()"
      ],
      "execution_count": null,
      "outputs": [
        {
          "output_type": "execute_result",
          "data": {
            "text/plain": [
              "['aa', 'aa']"
            ]
          },
          "metadata": {},
          "execution_count": 6
        }
      ]
    },
    {
      "cell_type": "code",
      "metadata": {
        "colab": {
          "base_uri": "https://localhost:8080/"
        },
        "id": "_xpO6VRY0shF",
        "outputId": "d2aacc0c-9809-4105-9704-387270b3fe41"
      },
      "source": [
        "class Student:\n",
        "  def __init__(self, name, grade):\n",
        "    self.name = name\n",
        "    self.grade = grade\n",
        "  \n",
        "  def __str__(self):\n",
        "    return '{' + self.name + ': ' + str(self.grade) + '}'\n",
        "\n",
        "  def learn(self):\n",
        "    print(\"My name is %s. I'm learning Python! My grade is %d.\" %(self.name, self.grade))\n",
        "\n",
        "students = [Student(\"Steve\", 9), Student(\"Oleg\", 10)]\n",
        "\n",
        "for student in students:\n",
        "  print()\n",
        "  print('student.name = ' + student.name)\n",
        "  print('student.grade = ' + str(student.grade))\n",
        "  print('student = ' + str(student))\n",
        "  print(student.__dict__)\n",
        "  student.learn()\n",
        "\n",
        "# learn() - отдельный метод, который мы написали\n",
        "# name, grade = атрибут класса"
      ],
      "execution_count": null,
      "outputs": [
        {
          "output_type": "stream",
          "name": "stdout",
          "text": [
            "\n",
            "student.name = Steve\n",
            "student.grade = 9\n",
            "student = {Steve: 9}\n",
            "{'name': 'Steve', 'grade': 9}\n",
            "My name is Steve. I'm learning Python! My grade is 9.\n",
            "\n",
            "student.name = Oleg\n",
            "student.grade = 10\n",
            "student = {Oleg: 10}\n",
            "{'name': 'Oleg', 'grade': 10}\n",
            "My name is Oleg. I'm learning Python! My grade is 10.\n"
          ]
        }
      ]
    },
    {
      "cell_type": "code",
      "metadata": {
        "colab": {
          "base_uri": "https://localhost:8080/"
        },
        "id": "o5bSboba2mXS",
        "outputId": "a114b29f-6e49-4c6a-ba77-171acef49875"
      },
      "source": [
        "class Person:\n",
        "\n",
        "  status = 'student'\n",
        "\n",
        "  def __str__(self):\n",
        "    return self.name[::-1]\n",
        "\n",
        "  def __init__(self, name):\n",
        "    self.name = name\n",
        "  \n",
        "a = Person(\"Steve\")\n",
        "b = Person(\"Mark\")\n",
        "\n",
        "print('\\n:\\n')\n",
        "print(a.name + ': ' + a.status)\n",
        "print(b.name + ': ' + b.status)\n",
        "\n",
        "Person.status = 'graduate'\n",
        "\n",
        "print('\\n:\\n')\n",
        "print(a.name + ': ' + a.status)\n",
        "print(b.name + ': ' + b.status)\n",
        "print(a.__dict__, b.__dict__)\n",
        "\n",
        "Person.status = 'student'\n",
        "a.status = 'graduate'\n",
        "\n",
        "print('\\n:\\n')\n",
        "print(a.name + ': ' + a.status)\n",
        "print(b.name + ': ' + b.status)\n",
        "print(a.__dict__, b.__dict__)"
      ],
      "execution_count": null,
      "outputs": [
        {
          "output_type": "stream",
          "name": "stdout",
          "text": [
            "\n",
            ":\n",
            "\n",
            "Steve: student\n",
            "Mark: student\n",
            "\n",
            ":\n",
            "\n",
            "Steve: graduate\n",
            "Mark: graduate\n",
            "{'name': 'Steve'} {'name': 'Mark'}\n",
            "\n",
            ":\n",
            "\n",
            "Steve: graduate\n",
            "Mark: student\n",
            "{'name': 'Steve', 'status': 'graduate'} {'name': 'Mark'}\n"
          ]
        }
      ]
    },
    {
      "cell_type": "code",
      "metadata": {
        "colab": {
          "base_uri": "https://localhost:8080/"
        },
        "id": "s2ijtthw5dtY",
        "outputId": "8ba70e21-e7ff-45bd-ea3e-48ced9ba2495"
      },
      "source": [
        "class Env:\n",
        "\n",
        "  os = 'Windows'\n",
        "\n",
        "  @classmethod\n",
        "  def print_os(self):\n",
        "    print(self.os)\n",
        "  \n",
        "  @staticmethod\n",
        "  def print_user():\n",
        "    print('guest')\n",
        "\n",
        "Env.print_os()\n",
        "Env.print_user()"
      ],
      "execution_count": null,
      "outputs": [
        {
          "output_type": "stream",
          "name": "stdout",
          "text": [
            "Windows\n",
            "guest\n"
          ]
        }
      ]
    },
    {
      "cell_type": "code",
      "metadata": {
        "id": "ejkDl--g7Fsi"
      },
      "source": [
        "# Encapsulation\n",
        "\n",
        "# Just write __name ... to make it a private class. If not - it's a public class\n",
        "# but you can replace it by writing _'ClassName'__name = '123'"
      ],
      "execution_count": null,
      "outputs": []
    },
    {
      "cell_type": "code",
      "metadata": {
        "id": "7_N8jqUh9kDy"
      },
      "source": [
        "# Operator overloading\n",
        "\n",
        "# __eq__(self, other) - to compare classes. Otherwise it will compare slot of memory\n",
        "# __ne__(self, other) - to compare if not equal\n",
        "# __lt__(self, other) - less then\n",
        "# __le__(self, other) - less or equal\n",
        "# __add__(self, other) - to compute two numbers\n",
        "# __mul__(self, other) - to multiply two numbers\n",
        "# __neg__(self, other) - to negate a number\n",
        "# __repr__(self) - to representate an object"
      ],
      "execution_count": null,
      "outputs": []
    },
    {
      "cell_type": "code",
      "metadata": {
        "colab": {
          "base_uri": "https://localhost:8080/",
          "height": 37
        },
        "id": "mUTTw14V_5Oj",
        "outputId": "5e952bb0-65d8-4b5b-ac93-3e43638c1256"
      },
      "source": [
        "# Inheritence and polymorphisms\n",
        "\n",
        "\"\"\"\n",
        "Class Creature:\n",
        "  def __init__(self, name):\n",
        "    self.name = name\n",
        "  def say(self):\n",
        "    pass\n",
        "\n",
        "Class Dog(Creature):\n",
        "  def __init__(self, name):\n",
        "    self.name = name\n",
        "  def say(self):\n",
        "    print(\"Woof!\")\n",
        "\n",
        "Class Cat(Creature):\n",
        "  def __init__(self, name):\n",
        "    self.name = name\n",
        "  def say(self):\n",
        "    print(\"Meow!\")\n",
        "\"\"\"\n",
        "\n",
        "# Multiple inheritence\n",
        "\n",
        "\"\"\"\n",
        "Class CatDog(Cat, Dog):\n",
        "  def __init__(self, name):\n",
        "    super().__init__(name)\n",
        "  ...\n",
        "\"\"\""
      ],
      "execution_count": null,
      "outputs": [
        {
          "output_type": "execute_result",
          "data": {
            "application/vnd.google.colaboratory.intrinsic+json": {
              "type": "string"
            },
            "text/plain": [
              "'\\nClass CatDog(Cat, Dog):\\n  def __init__(self, name):\\n    super().__init__(name)\\n  ...\\n'"
            ]
          },
          "metadata": {},
          "execution_count": 28
        }
      ]
    },
    {
      "cell_type": "code",
      "metadata": {
        "id": "6UxP-unTCbb9"
      },
      "source": [
        "# Function isinstance - Check if data type from the left is equal to something\n",
        "# if isinstance(person, Employee)"
      ],
      "execution_count": null,
      "outputs": []
    },
    {
      "cell_type": "code",
      "metadata": {
        "colab": {
          "base_uri": "https://localhost:8080/"
        },
        "id": "aKNraVXSTik4",
        "outputId": "a66e24da-7b8b-486f-a580-1926fff0186e"
      },
      "source": [
        "# Задача 1\n",
        "\n",
        "class Train:\n",
        "    train_number = 1\n",
        "    def __init__(self, d_n, d_t):\n",
        "        self.destination_name = d_n\n",
        "        self.train_number = Train.train_number\n",
        "        self.departure_time = d_t\n",
        "        Train.train_number += 1\n",
        "\n",
        "    def __repr__(self):\n",
        "        return f\"Train number #{self.train_number} destination is {self.destination_name} heads off at {self.departure_time}\"\n",
        "    #   return \"{0} {1} {2}\".format(self.destination_time, ...)\n",
        "\n",
        "    def __lt__(self, other):\n",
        "        return self.departure_time < other.departure_time\n",
        "\n",
        "class Depot:\n",
        "\n",
        "    def __init__(self, depot_name, trains=[]):\n",
        "        self.depot_name = depot_name\n",
        "        self.trains = trains\n",
        "      \n",
        "    def add_train(self, train: Train):\n",
        "        self.trains.append(train)\n",
        "\n",
        "    def display(self):\n",
        "        print(*self.trains, sep = '\\n')\n",
        "\n",
        "    def sort_trains(self):\n",
        "        return sorted(self.trains, key=lambda x: (x.destination_name, x.departure_time))\n",
        "\n",
        "\n",
        "train1 = Train('Moscow', '18:00')\n",
        "#print(train1)\n",
        "\n",
        "train2 = Train('Saint-Petersburg', '17:00')\n",
        "#print(train2)\n",
        "\n",
        "list1 = [train1, train2]\n",
        "#print(list1)\n",
        "\n",
        "depot = Depot(\"London\", list1)\n",
        "depot.add_train(Train('Kazan', '15:00'))\n",
        "print(depot.sort_trains())\n",
        "depot.display()"
      ],
      "execution_count": null,
      "outputs": [
        {
          "output_type": "stream",
          "name": "stdout",
          "text": [
            "[Train number #3 destination is Kazan heads off at 15:00, Train number #1 destination is Moscow heads off at 18:00, Train number #2 destination is Saint-Petersburg heads off at 17:00]\n",
            "Train number #1 destination is Moscow heads off at 18:00\n",
            "Train number #2 destination is Saint-Petersburg heads off at 17:00\n",
            "Train number #3 destination is Kazan heads off at 15:00\n"
          ]
        }
      ]
    },
    {
      "cell_type": "code",
      "metadata": {
        "colab": {
          "base_uri": "https://localhost:8080/"
        },
        "id": "-KArtNoqbGXq",
        "outputId": "fe809a46-eb72-48a9-dbb5-ba52342e35f3"
      },
      "source": [
        "# Задача 2\n",
        "\n",
        "class Animal:\n",
        "    Id = 0\n",
        "    def __init__(self, name, amount_of_food):\n",
        "        self.name = name\n",
        "        Animal.Id += 1\n",
        "        self.id = Animal.Id\n",
        "        self.amount_of_food = amount_of_food\n",
        "\n",
        "    def calc_food(self):\n",
        "        return self.amount_of_food\n",
        "\n",
        "class Herbivore(Animal):\n",
        "    def __init__(self, name, amount_of_food):\n",
        "        super().__init__(name, amount_of_food)\n",
        "        self.type = 'Herbivore'\n",
        "\n",
        "class Omnivore(Animal):\n",
        "    def __init__(self, name, amount_of_food):\n",
        "        super().__init__(name, amount_of_food)\n",
        "        self.type = 'Omnivore'\n",
        "\n",
        "class Predatory(Animal):\n",
        "    def __init__(self, name, amount_of_food):\n",
        "        super().__init__(name, amount_of_food)\n",
        "        self.type = 'Predatory'\n",
        "\n",
        "class Zoo:\n",
        "\n",
        "    def __init__(self, animals = []):\n",
        "        self.animals = animals\n",
        "\n",
        "    def add_animal(self, animal: Animal):\n",
        "      self.animals.append(animal)\n",
        "\n",
        "    def display(self):\n",
        "        d = {'Predatory': 0, 'Omnivore': 0, 'Herbivore': 0}\n",
        "        for i in self.animals:\n",
        "            if isinstance(i, Omnivore):\n",
        "                d['Omnivore'] += i.calc_food()\n",
        "            if isinstance(i, Herbivore):\n",
        "                d['Herbivore'] += i.calc_food()\n",
        "            if isinstance(i, Predatory):\n",
        "                d['Predatory'] += i.calc_food()\n",
        "        return sorted(d.items(), key = lambda x: x[1])\n",
        "    \n",
        "    def dump(self, path = '.'):\n",
        "        with open(path+\"/animals_out.txt\", \"w\") as file:\n",
        "            for i in self.animals:\n",
        "                file.write(f\"{type(i).__name__} {i.name} {i.amount_of_food}\\n\")\n",
        "    \n",
        "    def load(self, path = \"animals_out.txt\"):\n",
        "        d = {'Predatory': Predatory, 'Omnivore': Omnivore, 'Herbivore': Herbivore}\n",
        "        with open(path, \"r\") as file:\n",
        "            t = file.readlines()\n",
        "            for line in t:\n",
        "                s = line.split()\n",
        "                self.add_animal(d[s[0]](s[1], int(s[2])))\n",
        "\n",
        "animal1 = Predatory('Lion', 400)\n",
        "animal2 = Predatory('Crocodile', 300)\n",
        "animal3 = Omnivore('?', 1000)\n",
        "animal4 = Herbivore('Elephant', 590)\n",
        "animal5 = Predatory('Hare', 100)\n",
        "zoo = Zoo()\n",
        "\"\"\"\n",
        "zoo.add_animal(animal1)\n",
        "zoo.add_animal(animal2)\n",
        "zoo.add_animal(animal3)\n",
        "zoo.add_animal(animal4)\n",
        "zoo.add_animal(animal5)\n",
        "zoo.display()\n",
        "zoo.dump()\n",
        "\"\"\"\n",
        "zoo.load()\n",
        "print(zoo.display())"
      ],
      "execution_count": null,
      "outputs": [
        {
          "output_type": "stream",
          "name": "stdout",
          "text": [
            "[('Herbivore', 690), ('Predatory', 700), ('Omnivore', 1000)]\n"
          ]
        }
      ]
    }
  ]
}