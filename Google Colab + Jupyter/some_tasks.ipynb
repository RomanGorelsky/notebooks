{
  "nbformat": 4,
  "nbformat_minor": 0,
  "metadata": {
    "colab": {
      "name": "some_tasks.ipynb",
      "provenance": [],
      "collapsed_sections": []
    },
    "kernelspec": {
      "name": "python3",
      "display_name": "Python 3"
    },
    "language_info": {
      "name": "python"
    }
  },
  "cells": [
    {
      "cell_type": "code",
      "metadata": {
        "colab": {
          "base_uri": "https://localhost:8080/"
        },
        "id": "KlQ9s3uKObac",
        "outputId": "e2c0a8ad-690e-430d-d53c-ff5f5a62bb28"
      },
      "source": [
        "#1 - Выведите все элементы, которые меньше 5.\n",
        "\n",
        "a = list(map(int, input().split()))\n",
        "print(*[num for num in a if num < 5])"
      ],
      "execution_count": null,
      "outputs": [
        {
          "output_type": "stream",
          "name": "stdout",
          "text": [
            "1 2 3 4 5 6 7 8 9\n",
            "1 2 3 4\n"
          ]
        }
      ]
    },
    {
      "cell_type": "code",
      "metadata": {
        "colab": {
          "base_uri": "https://localhost:8080/"
        },
        "id": "Hkr1S9jaO93o",
        "outputId": "c8d364f0-ce43-4997-c1b6-529335c99546"
      },
      "source": [
        "#2 - Нужно вернуть список, который состоит из элементов, общих для этих двух списков.\n",
        "\n",
        "c = set(map(int, input().split()))\n",
        "b = set(map(int, input().split()))\n",
        "print(c & b)"
      ],
      "execution_count": null,
      "outputs": [
        {
          "output_type": "stream",
          "name": "stdout",
          "text": [
            "1 2 3 4\n",
            "1 2 5 6\n",
            "{1, 2}\n"
          ]
        }
      ]
    },
    {
      "cell_type": "code",
      "metadata": {
        "colab": {
          "base_uri": "https://localhost:8080/"
        },
        "id": "d6SEyb8SQrpK",
        "outputId": "ddcfe0a0-ffac-4067-da53-81e5185e131a"
      },
      "source": [
        "#3 - Отсортируйте словарь по значению в порядке возрастания и убывания.\n",
        "\n",
        "x = {'x': 1, 'y': 2, 'z': 3}\n",
        "sort_dict = sorted(x.items(), key=lambda x: x[1], reverse=True)\n",
        "print(x, *sort_dict)"
      ],
      "execution_count": null,
      "outputs": [
        {
          "output_type": "stream",
          "name": "stdout",
          "text": [
            "{'x': 1, 'y': 2, 'z': 3} ('z', 3) ('y', 2) ('x', 1)\n"
          ]
        }
      ]
    },
    {
      "cell_type": "code",
      "metadata": {
        "colab": {
          "base_uri": "https://localhost:8080/"
        },
        "id": "c-aDRN57Rzar",
        "outputId": "cc585321-b8a7-4928-da47-992fc31e9a0b"
      },
      "source": [
        "#4 - Напишите программу для слияния нескольких словарей в один.\n",
        "\n",
        "y = {'x': 1, 'y': 2, 'z': 3}\n",
        "z = {'q': 4, 'w': 5, 'e': 6}\n",
        "combo = {**y, **z}\n",
        "combo\n",
        "\n",
        "############################\n",
        "\n",
        "def funct(args = 0, kwargs = 2):\n",
        "  print(args, kwargs)\n",
        "\n",
        "d = {\"args\": 5, \"kwargs\": 3}\n",
        "funct(**d)"
      ],
      "execution_count": null,
      "outputs": [
        {
          "output_type": "stream",
          "name": "stdout",
          "text": [
            "5 3\n"
          ]
        }
      ]
    },
    {
      "cell_type": "code",
      "metadata": {
        "colab": {
          "base_uri": "https://localhost:8080/"
        },
        "id": "8088xRppTACD",
        "outputId": "54e9daa2-a50e-46e6-cddd-7a973473086e"
      },
      "source": [
        "#5 - Вывести первые n строк треугольника Паскаля\n",
        "\n",
        "def fact(n: int):\n",
        "  if n <= 1:\n",
        "    return 1\n",
        "  return n*fact(n-1)\n",
        "\n",
        "n = int(input())\n",
        "k = n\n",
        "for i in range(n):\n",
        "  print(k*' ', end = '')\n",
        "  for j in range(i+1):\n",
        "    print(fact(i)//(fact(i-j)*fact(j)), end = '')\n",
        "  print()\n",
        "  k -= 1"
      ],
      "execution_count": null,
      "outputs": [
        {
          "output_type": "stream",
          "name": "stdout",
          "text": [
            "3\n",
            "   1\n",
            "  11\n",
            " 121\n"
          ]
        }
      ]
    }
  ]
}